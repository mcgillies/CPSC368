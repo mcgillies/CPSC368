{
 "cells": [
  {
   "cell_type": "code",
   "execution_count": null,
   "id": "c54382e7-abc9-4e6a-89b0-69ce72997c39",
   "metadata": {},
   "outputs": [],
   "source": [
    "import pandas as pd\n",
    "from sklearn.linear_model import LinearRegression\n",
    "import matplotlib.pyplot as plt\n",
    "import numpy as np\n",
    "import seaborn as sn"
   ]
  },
  {
   "cell_type": "markdown",
   "id": "f43c9bc9-f0c1-4519-ac38-80bdf28accd9",
   "metadata": {
    "user_expressions": []
   },
   "source": [
    "## Notes for group:\n",
    "\n",
    "- For regression do we only want to use 'response' and year? or include other variables (ie. predict differently for the sources in power generated/consumed or combine all into one prediction? keep as is\n",
    "\n",
    "- For dataframes with month do we include it? or just summarize to a yearly avg (will do both)\n",
    "\n",
    "- Some correlation matrices are pretty useless... do we keep all? (I would say yes just to show how year correlates with what we are predicting YES\n",
    "\n",
    "- On correlation... some of the correlations between year and predictor are ~0... therefore regression model is ineffective. Anything we want to do about that? (Could be just not regressing for that dataset or including other features). No\n",
    "\n",
    "- Any other plots to include? Could be something just exploratory (histogram of count, etc.) or something related to regression (residuals, CI, etc) histogram\n",
    "\n",
    "- What do we want to display to summarize regression models? I was thinking R^2 score and the plot of predictions vs true values."
   ]
  },
  {
   "cell_type": "markdown",
   "id": "65334c16-cbdd-4ed5-be11-65e8a710fc0d",
   "metadata": {
    "user_expressions": []
   },
   "source": [
    "### Reading in and viewing all data frames:"
   ]
  },
  {
   "cell_type": "code",
   "execution_count": null,
   "id": "0490b936-a963-4376-b3bb-89a8f64f79b3",
   "metadata": {},
   "outputs": [],
   "source": [
    "earthtemp = pd.read_csv('clean_data/earthtemp.csv', index_col = 0)\n",
    "earthtemp.head()"
   ]
  },
  {
   "cell_type": "code",
   "execution_count": null,
   "id": "f35e64bf-b4ef-4186-8375-a6843fb30746",
   "metadata": {},
   "outputs": [],
   "source": [
    "# Need to deal with the total column here\n",
    "population = pd.read_csv(\"clean_data/population.csv\", index_col = 0)\n",
    "# population['Total'] = population['Total'].astype(int)\n",
    "population.head()\n",
    "population.dtypes"
   ]
  },
  {
   "cell_type": "code",
   "execution_count": null,
   "id": "f71afba3-130b-4436-b4af-89733a6a2f88",
   "metadata": {},
   "outputs": [],
   "source": [
    "powercons=pd.read_csv('clean_data/powercon.csv', index_col = 0)\n",
    "powercons.head()"
   ]
  },
  {
   "cell_type": "code",
   "execution_count": null,
   "id": "65b56361-ae6f-45ce-b3da-1f165a8bbe00",
   "metadata": {},
   "outputs": [],
   "source": [
    "powergen = pd.read_csv('clean_data/powergen.csv', index_col = 0)\n",
    "powergen.head()"
   ]
  },
  {
   "cell_type": "code",
   "execution_count": null,
   "id": "9c53e25c-c09e-46f7-b76d-3c0acf3a25ef",
   "metadata": {},
   "outputs": [],
   "source": [
    "precipitation = pd.read_csv('clean_data/precipitation.csv',index_col = 0)\n",
    "precipitation.head()"
   ]
  },
  {
   "cell_type": "markdown",
   "id": "f6600cd8-0d8b-4226-8635-f91ff1ba3504",
   "metadata": {
    "user_expressions": []
   },
   "source": [
    "## Exploratory Data Analysis:\n",
    "For our exploratory data analysis we will view the correlations of the features within each dataset."
   ]
  },
  {
   "cell_type": "code",
   "execution_count": null,
   "id": "dd340802-3680-4bca-bd56-4a5fdef2654b",
   "metadata": {},
   "outputs": [],
   "source": [
    "# some code from: https://seaborn.pydata.org/generated/seaborn.heatmap.html\n",
    "def plot_corr(df):\n",
    "    # Parameters: \n",
    "    # df: pd.DataFrame -> the dataframe to be plotted\n",
    "    # returns a seaborn heatmap representing the correlations of the features\n",
    "    \n",
    "    sn.heatmap(df.corr(), cmap = 'magma', annot = True)"
   ]
  },
  {
   "cell_type": "code",
   "execution_count": null,
   "id": "fa9b6c7b-2a84-4b72-b3f7-15c95c609958",
   "metadata": {},
   "outputs": [],
   "source": [
    "plot_corr(earthtemp)"
   ]
  },
  {
   "cell_type": "markdown",
   "id": "87f38ad7-ad47-4ca7-b4f7-983de00cea47",
   "metadata": {
    "user_expressions": []
   },
   "source": [
    "We see correlation between temperature and month, however there is a near zero correlation between year and temperature. This is about as expected, as we know temperature changes greatly with month. "
   ]
  },
  {
   "cell_type": "code",
   "execution_count": null,
   "id": "b29b10cd-df27-46fd-8148-0d2bb7c03c5c",
   "metadata": {},
   "outputs": [],
   "source": [
    "plot_corr(population)"
   ]
  },
  {
   "cell_type": "code",
   "execution_count": null,
   "id": "4d1d37bd-fc48-4d1b-bd46-c32ae99dd1c1",
   "metadata": {},
   "outputs": [],
   "source": [
    "plot_corr(powercons)"
   ]
  },
  {
   "cell_type": "code",
   "execution_count": null,
   "id": "98f04008-e03e-4d8e-9085-0f4d4b936eb1",
   "metadata": {},
   "outputs": [],
   "source": [
    "plot_corr(powergen)"
   ]
  },
  {
   "cell_type": "code",
   "execution_count": null,
   "id": "b0ec159c-ba62-404e-ae84-182d99b233a4",
   "metadata": {},
   "outputs": [],
   "source": [
    "plot_corr(precipitation)"
   ]
  },
  {
   "cell_type": "markdown",
   "id": "92f224e1-affb-4c79-b325-473ab64dde71",
   "metadata": {
    "user_expressions": []
   },
   "source": [
    "Here we see a meaningful correlation between minimum temperature and maximum temperature. The rest of the dataset provides quite weak correlations besides this. "
   ]
  },
  {
   "cell_type": "code",
   "execution_count": null,
   "id": "0a5d9f1b-679f-4947-9f87-9409c057dd58",
   "metadata": {},
   "outputs": [],
   "source": [
    "def plot_bar(data, cat_column, num_column):\n",
    "    # Parameters:\n",
    "    # data: pd.DataFrame -> data frame to plot\n",
    "    # cat_column: String -> The column name (categorical) to group by\n",
    "    # num_column: String -> The column name (numerical) to aggregate\n",
    "    # Returns a matplotlib bar chart\n",
    "    df_grouped = data.groupby(cat_column).agg({num_column:'mean'})\n",
    "    plt.bar(df_grouped.index, df_grouped[num_column])\n",
    "    plt.xlabel(cat_column)\n",
    "    plt.ylabel(num_column)\n",
    "    \n",
    "    "
   ]
  },
  {
   "cell_type": "code",
   "execution_count": null,
   "id": "096d43a8-3e67-46d6-abba-65eb2529dd7f",
   "metadata": {},
   "outputs": [],
   "source": [
    "# Plotting power consumed by source\n",
    "plot_bar(powercons, 'source', 'value')"
   ]
  },
  {
   "cell_type": "code",
   "execution_count": null,
   "id": "93a09f2e-7a2c-4714-8012-3b8bef3779d5",
   "metadata": {},
   "outputs": [],
   "source": [
    "# Plotting power generated by source\n",
    "plot_bar(powergen, 'source', 'value')"
   ]
  },
  {
   "cell_type": "code",
   "execution_count": null,
   "id": "a3d446f8-3b57-4187-96e7-41828691f704",
   "metadata": {},
   "outputs": [],
   "source": [
    "# Plotting average precipitation by station:\n",
    "plot_bar(precipitation, 'Station', 'ONE_DAY_PRECIPITATION')"
   ]
  },
  {
   "cell_type": "markdown",
   "id": "e3c4e4c1-febb-4ab8-9796-0de04ec2c378",
   "metadata": {
    "user_expressions": []
   },
   "source": [
    "# Analysis:\n",
    "Performing linear regression on each of the data frames and their response variables, and predicting each up to the year 2030. Then we can compare future results to see if the power generated & consumed is truly sustainable. "
   ]
  },
  {
   "cell_type": "code",
   "execution_count": null,
   "id": "5bfe4214-8ef1-4036-851a-01b8eb6ad35f",
   "metadata": {},
   "outputs": [],
   "source": [
    "# some code from https://scikit-learn.org/stable/modules/generated/sklearn.linear_model.LinearRegression.html\n",
    "def fit_year_regression_model(data, response):\n",
    "    # Params: \n",
    "    # data: pd.DataFrame -> dataframe to regress on\n",
    "    # response: string -> the name of the response variable \n",
    "    # alpha: float -> the value of alpha to use in the Ridge regressor\n",
    "    \n",
    "    # Function fits a Ridge regression model to the specified response from Year, returns the fitted model, \n",
    "    # the R^2 score and predictions for the years 2014-2030.\n",
    "    \n",
    "    ridge = LinearRegression()\n",
    "    X = data[['Year']]\n",
    "    y = data[response]\n",
    "    ridge.fit(X,y)\n",
    "    \n",
    "    score = ridge.score(X,y)\n",
    "    \n",
    "    new_years = np.arange(2014, 2035, 1).reshape(-1,1)\n",
    "    preds = ridge.predict(new_years)\n",
    "    \n",
    "    return ridge, score, preds"
   ]
  },
  {
   "cell_type": "code",
   "execution_count": null,
   "id": "915d67e5-420f-440f-9411-7a34012ee131",
   "metadata": {},
   "outputs": [],
   "source": [
    "def plot_old_and_preds(data, preds, model, response):\n",
    "    # Params:\n",
    "    # data: pd.DataFrame -> data to plot/predict from\n",
    "    # preds: np.array -> predictions from previous regression model\n",
    "    # model: LinearRegression instance -> the model fit to the data\n",
    "    # response: String -> name of response variable\n",
    "    \n",
    "    # Function predicts values for years 2005-2035 using the previously fitted model, then plots the predictions\n",
    "    # against the true values.\n",
    "    \n",
    "    # Returns matplotlib plot\n",
    "    \n",
    "    years = np.arange(2005, 2035, 1).reshape(-1,1)\n",
    "    preds = model.predict(years)\n",
    "    data_years = data['Year'].values\n",
    "    data_vals = data[response].values\n",
    "    \n",
    "    plt.plot(years, preds, color = 'blue', label = 'Prediction')\n",
    "    plt.plot(data_years, data_vals, color = 'red', label = 'Real Data')\n",
    "    plt.xlabel(\"Year\")\n",
    "    plt.ylabel(response)\n",
    "    plt.legend()\n",
    "    \n",
    "    plt.show()\n",
    "    "
   ]
  },
  {
   "cell_type": "code",
   "execution_count": null,
   "id": "d7ddfc73-ca5d-43a8-b191-3c63548a7ed9",
   "metadata": {},
   "outputs": [],
   "source": [
    "def group_df_by(df, column):\n",
    "    # Parameters:\n",
    "    # df: pd.DataFrame -> dataframe to group\n",
    "    # column: String -> column name to aggregate\n",
    "    # returns the grouped dataframe\n",
    "    \n",
    "    df_grouped = df.groupby(\"Year\").agg({column:'mean'})\n",
    "    df_grouped = df_grouped.reset_index()\n",
    "    return df_grouped\n"
   ]
  },
  {
   "cell_type": "code",
   "execution_count": null,
   "id": "263f4101-a5b1-4ae9-a60e-4576f6d563c3",
   "metadata": {},
   "outputs": [],
   "source": [
    "# Earth temperature\n",
    "et_grouped = group_df_by(earthtemp, 'AverageTemperature')"
   ]
  },
  {
   "cell_type": "code",
   "execution_count": null,
   "id": "84dd39c1-f6da-4ddd-896f-5640a09dbcea",
   "metadata": {},
   "outputs": [],
   "source": [
    "# Fitting temperature model\n",
    "et_model, et_score, et_preds = fit_year_regression_model(et_grouped, 'AverageTemperature')\n",
    "et_preds"
   ]
  },
  {
   "cell_type": "code",
   "execution_count": null,
   "id": "bdbf2ec7-f5f2-4a53-b45d-2c24259be42b",
   "metadata": {},
   "outputs": [],
   "source": [
    "# Plotting temperature model\n",
    "plot_old_and_preds(et_grouped, et_preds, et_model, 'AverageTemperature')"
   ]
  },
  {
   "cell_type": "code",
   "execution_count": null,
   "id": "800373d6-000a-4042-8191-605442badf02",
   "metadata": {},
   "outputs": [],
   "source": [
    "# Population dataset\n",
    "pop_grouped = group_df_by(population, 'Total')\n",
    "pop_model, pop_score, pop_preds = fit_year_regression_model(pop_grouped, 'Total')\n",
    "pop_preds"
   ]
  },
  {
   "cell_type": "code",
   "execution_count": null,
   "id": "54ccb327-979e-4e54-a536-6ee6fe983031",
   "metadata": {},
   "outputs": [],
   "source": [
    "plot_old_and_preds(pop_grouped, pop_preds, pop_model, 'Total')"
   ]
  },
  {
   "cell_type": "code",
   "execution_count": null,
   "id": "6fa73142-80fa-4bb4-8a2b-7b576635bc91",
   "metadata": {},
   "outputs": [],
   "source": [
    "# Power Generated dataset\n",
    "pg_grouped = group_df_by(powergen, 'value')\n",
    "pg_model, pg_score, pg_preds = fit_year_regression_model(pg_grouped, 'value')\n",
    "pg_preds"
   ]
  },
  {
   "cell_type": "code",
   "execution_count": null,
   "id": "00a7f8d1-9a42-4329-94a5-a0ec03c6d51c",
   "metadata": {},
   "outputs": [],
   "source": [
    "plot_old_and_preds(pg_grouped, pg_preds, pg_model, 'value')"
   ]
  },
  {
   "cell_type": "code",
   "execution_count": null,
   "id": "c3e3839e-9c4a-49db-9f40-fec9fadd10be",
   "metadata": {},
   "outputs": [],
   "source": [
    "# Power Consumed dataset\n",
    "pc_grouped = group_df_by(powercons, 'value')\n",
    "pc_model, pc_score, pc_preds = fit_year_regression_model(pc_grouped, 'value')\n",
    "pc_preds"
   ]
  },
  {
   "cell_type": "code",
   "execution_count": null,
   "id": "3213eda7-4b08-4499-8ed0-0072e5bc205b",
   "metadata": {},
   "outputs": [],
   "source": [
    "plot_old_and_preds(pc_grouped, pc_preds, pc_model, 'value')"
   ]
  },
  {
   "cell_type": "code",
   "execution_count": null,
   "id": "cd9adeea-4fd0-4437-b532-ae12e0ad2cae",
   "metadata": {},
   "outputs": [],
   "source": [
    "# Combining predictions and true data in order to compare the trends over time. Here we look at power generated/\n",
    "# consumed vs population to see if it is 'sustainable'\n",
    "\n",
    "pop_year_total = pop_grouped[['Year', 'Total']]\n",
    "pop_year_total = pop_year_total.rename(columns = {'Total':'pop_total'})\n",
    "pg_year_total = pg_grouped[['Year', 'value']]\n",
    "pg_year_total = pg_year_total.rename(columns = {'value':'pg_value'})\n",
    "pc_year_total = pc_grouped[['Year', 'value']]\n",
    "pc_year_total = pc_year_total.rename(columns = {'value':'pc_value'})\n",
    "pop_pg = pop_year_total.merge(pg_year_total,on = 'Year')\n",
    "pop_pg_pc = pop_pg.merge(pc_year_total, on = 'Year')\n",
    "years = np.arange(2014,2035,1)\n",
    "\n",
    "new_preds_df = pd.DataFrame({'pc_value':pc_preds, 'pg_value':pg_preds, 'pop_total':pop_preds, 'Year':years})\n",
    "\n",
    "full_df = pd.concat([pop_pg_pc, new_preds_df])\n",
    "\n"
   ]
  },
  {
   "cell_type": "code",
   "execution_count": null,
   "id": "f2f4dfc3-6a64-46dd-ade7-918597ff1b74",
   "metadata": {},
   "outputs": [],
   "source": []
  }
 ],
 "metadata": {
  "kernelspec": {
   "display_name": "Python 3 (ipykernel)",
   "language": "python",
   "name": "python3"
  },
  "language_info": {
   "codemirror_mode": {
    "name": "ipython",
    "version": 3
   },
   "file_extension": ".py",
   "mimetype": "text/x-python",
   "name": "python",
   "nbconvert_exporter": "python",
   "pygments_lexer": "ipython3",
   "version": "3.10.8"
  }
 },
 "nbformat": 4,
 "nbformat_minor": 5
}
